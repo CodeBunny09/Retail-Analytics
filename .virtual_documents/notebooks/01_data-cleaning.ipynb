#Importing necessary modules from scripts
import sys
sys.path.append("../src")
from data_prep import load_datasets, drop_sparse_columns, merge_datasets, handle_missing_values, initial_eda, save_cleaned_data


# Load all datasets
df_features, df_sales, df_stores = load_datasets()


# Drop sparse columns from features
df_features = drop_sparse_columns(df_features, threshold=0.5)


# Merge datasets
df_merged = merge_datasets(df_sales, df_stores, df_features)


# Save interim merged data for backup
df_merged.to_csv("../data/interim/merged_data.csv", index=False)


# Handle missing values
df_cleaned = handle_missing_values(df_merged)


df_cleaned.head()


# Initial EDA
initial_eda(df_cleaned)


df_cleaned.columns


import pandas as pd
import matplotlib.pyplot as plt
import numpy as np

# Prepare the data
df_cleaned['Month'] = df_cleaned['Date'].dt.to_period('M')
monthly_sales = df_cleaned.groupby(['Store', 'Month', 'Type'])['Weekly_Sales'].sum().reset_index()
monthly_sales['Month'] = monthly_sales['Month'].astype(str)

# Generate 45 unique colors for up to 45 stores
cmap = plt.colormaps.get_cmap('gist_ncar')
colors = [cmap(i / 45) for i in range(45)]

store_ids = sorted(monthly_sales['Store'].unique())
store_color_map = {store: colors[i] for i, store in enumerate(store_ids)}

# Separate plots for each store type
for store_type in ['A', 'B', 'C']:
    type_data = monthly_sales[monthly_sales['Type'] == store_type]
    type_store_ids = type_data['Store'].unique()

    plt.figure(figsize=(16, 6))
    for store in type_store_ids:
        store_data = type_data[type_data['Store'] == store]
        plt.plot(store_data['Month'], store_data['Weekly_Sales'],
                 label=f'Store {store}',
                 color=store_color_map[store],
                 linestyle='-')  # same style within type

    plt.title(f"Monthly Sales - Store Type {store_type}", fontsize=14)
    plt.xlabel("Month")
    plt.ylabel("Total Monthly Sales")
    plt.xticks(rotation=45)
    plt.grid(True)
    plt.legend(bbox_to_anchor=(1.02, 1), loc='upper left', ncol=2, fontsize='small')
    plt.tight_layout()
    plt.show()


# Identify holidays
holidays = df_cleaned[df_cleaned['IsHoliday_x'] == True]

# Convert to monthly to align with the x-axis in the plots
holidays['Month'] = holidays['Date'].dt.to_period('M').astype(str)

# Plot for each store type
for store_type in ['A', 'B', 'C']:
    type_data = monthly_sales[monthly_sales['Type'] == store_type]
    type_store_ids = type_data['Store'].unique()

    plt.figure(figsize=(16, 6))
    for store in type_store_ids:
        store_data = type_data[type_data['Store'] == store]
        plt.plot(store_data['Month'], store_data['Weekly_Sales'],
                 label=f'Store {store}',
                 color=store_color_map[store],
                 linestyle='-')

        # Overlay holiday dots
        store_holidays = holidays[(holidays['Store'] == store) & (holidays['Type'] == store_type)]
        holiday_months = store_holidays['Month'].value_counts().sort_index()
        plt.scatter(holiday_months.index, 
                    [store_data[store_data['Month'] == m]['Weekly_Sales'].sum() for m in holiday_months.index],
                    color=store_color_map[store], 
                    marker='o', 
                    edgecolors='black',
                    s=50, 
                    label=f'Store {store} Holiday')

    plt.title(f"Monthly Sales - Store Type {store_type} (Holidays Marked)", fontsize=14)
    plt.xlabel("Month")
    plt.ylabel("Total Monthly Sales")
    plt.xticks(rotation=45)
    plt.grid(True)
    plt.legend(bbox_to_anchor=(1.02, 1), loc='upper left', ncol=2, fontsize='small')
    plt.tight_layout()
    plt.show()



