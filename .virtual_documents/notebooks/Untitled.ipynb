# Cell 1: Import libraries
import pandas as pd
import matplotlib.pyplot as plt
import seaborn as sns
import warnings
warnings.filterwarnings("ignore")

# Set aesthetic parameters for seaborn
sns.set(style="whitegrid")



df = pd.read_csv("../data/processed/cleaned.csv")
df['Date'] = pd.to_datetime(df['Date'], errors='coerce')
df.head()


# Cell 3: Basic overview
print("Shape of the dataset:", df.shape)
print("\nMissing values:\n", df.isnull().sum())
print("\nData types:\n", df.dtypes)

import pandas as pd
import os

# Define paths to all data files
data_paths = {
    "features": "../data/raw/features.csv",
    "sales": "../data/raw/sales.csv",
    "stores": "../data/raw/stores.csv",
    "cleaned": "../data/processed/cleaned.csv"
}

# Function to check date consistency
def check_date_column(df, name):
    if 'Date' not in df.columns:
        print(f"🔴 '{name}' has no 'Date' column.\n")
        return

    # Convert to datetime if not already
    df['Date'] = pd.to_datetime(df['Date'], errors='coerce')

    # Check for missing or invalid dates
    
    missing_dates = df['Date'].isnull().sum()
    min_date = df['Date'].min()
    max_date = df['Date'].max()
    unique_dates = df['Date'].nunique()

    print(f"📁 {name}")
    print(f"  ✅ Date type: {df['Date'].dtype}")
    print(f"  📆 Date range: {min_date.date()} → {max_date.date()}")
    print(f"  🔢 Unique dates: {unique_dates}")
    print(f"  ❌ Invalid/missing dates: {missing_dates}\n")

# Run the check on all datasets
for name, path in data_paths.items():
    if os.path.exists(path):
        df = pd.read_csv(path)
        check_date_column(df, name)
    else:
        print(f"⚠️ File not found: {path}")


# Prepare the data
df['Month'] = df['Date'].dt.to_period('M')
monthly_sales = df.groupby(['Store', 'Month', 'Type'])['Weekly_Sales'].sum().reset_index()
monthly_sales['Month'] = monthly_sales['Month'].astype(str)

# Generate 45 unique colors for up to 45 stores
cmap = plt.colormaps.get_cmap('gist_ncar')
colors = [cmap(i / 45) for i in range(45)]

store_ids = sorted(monthly_sales['Store'].unique())
store_color_map = {store: colors[i] for i, store in enumerate(store_ids)}

# Separate plots for each store type
for store_type in ['A', 'B', 'C']:
    type_data = monthly_sales[monthly_sales['Type'] == store_type]
    type_store_ids = type_data['Store'].unique()

    plt.figure(figsize=(16, 6))
    for store in type_store_ids:
        store_data = type_data[type_data['Store'] == store]
        plt.plot(store_data['Month'], store_data['Weekly_Sales'],
                 label=f'Store {store}',
                 color=store_color_map[store],
                 linestyle='-')  # same style within type

    plt.title(f"Monthly Sales - Store Type {store_type}", fontsize=14)
    plt.xlabel("Month")
    plt.ylabel("Total Monthly Sales")
    plt.xticks(rotation=45)
    plt.grid(True)
    plt.legend(bbox_to_anchor=(1.02, 1), loc='upper left', ncol=2, fontsize='small')
    plt.tight_layout()
    plt.show()


# Identify holidays
holidays = df[df['IsHoliday_x'] == True]

# Convert to monthly to align with the x-axis in the plots
holidays['Month'] = holidays['Date'].dt.to_period('M').astype(str)

# Plot for each store type
for store_type in ['A', 'B', 'C']:
    type_data = monthly_sales[monthly_sales['Type'] == store_type]
    type_store_ids = type_data['Store'].unique()

    plt.figure(figsize=(16, 6))
    for store in type_store_ids:
        store_data = type_data[type_data['Store'] == store]
        plt.plot(store_data['Month'], store_data['Weekly_Sales'],
                 label=f'Store {store}',
                 color=store_color_map[store],
                 linestyle='-')

        # Overlay holiday dots
        store_holidays = holidays[(holidays['Store'] == store) & (holidays['Type'] == store_type)]
        holiday_months = store_holidays['Month'].value_counts().sort_index()
        plt.scatter(holiday_months.index, 
                    [store_data[store_data['Month'] == m]['Weekly_Sales'].sum() for m in holiday_months.index],
                    color=store_color_map[store], 
                    marker='o', 
                    edgecolors='black',
                    s=50, 
                    label=f'Store {store} Holiday')

    plt.title(f"Monthly Sales - Store Type {store_type} (Holidays Marked)", fontsize=14)
    plt.xlabel("Month")
    plt.ylabel("Total Monthly Sales")
    plt.xticks(rotation=45)
    plt.grid(True)
    plt.legend(bbox_to_anchor=(1.02, 1), loc='upper left', ncol=2, fontsize='small')
    plt.tight_layout()
    plt.show()


# Cell 4: Sales distribution
plt.figure(figsize=(10, 5))
sns.histplot(df['Weekly_Sales'], bins=50, kde=True)
plt.title('Distribution of Weekly Sales')
plt.xlabel('Weekly Sales')
plt.ylabel('Frequency')
plt.show()


# Cell 5: Sales over time
sales_over_time = df.groupby('Date')['Weekly_Sales'].sum().reset_index()
plt.figure(figsize=(14, 6))
sns.lineplot(data=sales_over_time, x='Date', y='Weekly_Sales')
plt.title("Total Weekly Sales Over Time")
plt.ylabel("Weekly Sales")
plt.xlabel("Date")
plt.show()


# Cell 6: Sales by Store Type
plt.figure(figsize=(8, 6))
sns.boxplot(data=df, x='Type', y='Weekly_Sales')
plt.title("Weekly Sales by Store Type")
plt.xlabel("Store Type")
plt.ylabel("Weekly Sales")
plt.show()


# Cell 7: Correlation heatmap
numerical_cols = ['Weekly_Sales', 'Temperature', 'Fuel_Price', 'CPI', 'Unemployment', 'Size']
plt.figure(figsize=(10, 8))
sns.heatmap(df[numerical_cols].corr(), annot=True, cmap='coolwarm', fmt=".2f")
plt.title("Correlation Heatmap of Numerical Features")
plt.show()


# Cell 9: Holiday vs Non-Holiday sales
holiday_sales = df.groupby('IsHoliday_x')['Weekly_Sales'].mean().reset_index()
holiday_sales['IsHoliday_x'] = holiday_sales['IsHoliday_x'].map({True: 'Holiday', False: 'Non-Holiday'})

plt.figure(figsize=(6, 5))
sns.barplot(data=holiday_sales, x='IsHoliday_x', y='Weekly_Sales')
plt.title("Average Weekly Sales: Holiday vs Non-Holiday")
plt.ylabel("Avg Weekly Sales")
plt.xlabel("Holiday Status")
plt.show()


# Cell 10: Sales by Temperature bins
df['Temp_bin'] = pd.cut(df['Temperature'], bins=6)
plt.figure(figsize=(12, 6))
sns.boxplot(data=df, x='Temp_bin', y='Weekly_Sales')
plt.title("Sales Across Temperature Bins")
plt.xticks(rotation=45)
plt.show()


# Cell 11: Sales by Store Segment (based on Size)
segment_labels = ['Small', 'Medium', 'Large']
df['Segment'] = pd.qcut(df['Size'], q=3, labels=segment_labels)

segment_summary = df.groupby('Segment')['Weekly_Sales'].mean().reset_index()
plt.figure(figsize=(6, 4))
sns.barplot(data=segment_summary, x='Segment', y='Weekly_Sales')
plt.title("Average Weekly Sales by Store Segment")
plt.ylabel("Avg Weekly Sales")
plt.xlabel("Store Segment")
plt.show()



