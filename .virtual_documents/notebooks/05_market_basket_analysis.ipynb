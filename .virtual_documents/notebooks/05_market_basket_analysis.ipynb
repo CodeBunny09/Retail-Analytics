


# Cell 1: Imports
import pandas as pd
import matplotlib.pyplot as plt
import seaborn as sns
from mlxtend.frequent_patterns import apriori, association_rules
import os
import warnings
warnings.filterwarnings("ignore")

# Create output folder if not exists
os.makedirs("../output", exist_ok=True)

# Original code
# import pandas as pd
# import matplotlib.pyplot as plt
# import seaborn as sns
# from mlxtend.frequent_patterns import apriori, association_rules


# Cell 2: Load and preprocess data
df = pd.read_csv("../data/processed/cleaned.csv")
df['Date'] = pd.to_datetime(df['Date'])

# Limit for memory optimization (original code used full dataset)
# df_market = df.copy()
df_market = df.sample(frac=0.25, random_state=42)  # ~25% of data

# Convert to basket format: one row per Date and Store
basket = df_market.groupby(['Date', 'Store', 'Dept'])['Weekly_Sales'].sum().unstack().fillna(0)

# Convert to binary
basket_binary = basket.applymap(lambda x: 1 if x > 0 else 0).astype(bool)  # ensure bool dtype

basket_binary.head()



# Cell 3: Generate frequent itemsets
# Original: use_colnames=True
frequent_itemsets = apriori(basket_binary, 
                            min_support=0.02,  # low threshold for demo
                            use_colnames=True, 
                            low_memory=True, 
                            verbose=1)

frequent_itemsets.sort_values("support", ascending=False).head()

# Save frequent itemsets
frequent_itemsets.to_csv("../output/frequent_itemsets.csv", index=False)


# Cell 4: Generate association rules
rules = association_rules(frequent_itemsets, metric="lift", min_threshold=1.0)
rules = rules.sort_values('confidence', ascending=False)

# Save rules
rules.to_csv("../output/association_rules.csv", index=False)
top_rules = rules[:10]

rules.head()


top_rules['rule'] = top_rules.apply(
    lambda row: f"{', '.join(str(i) for i in row['antecedents'])} → {', '.join(str(i) for i in row['consequents'])}", axis=1)

# Plot using rule label
plt.figure(figsize=(12, 6))
sns.barplot(x='confidence', y='rule', data=top_rules)
plt.title("Top 10 Association Rules by Confidence")
plt.xlabel("Confidence")
plt.ylabel("Rule")
plt.tight_layout()
plt.savefig("../output/top_association_rules.png")
plt.show()






# Cell 6: Summary & Notes
print(f"Total transactions analyzed: {basket_binary.shape[0]}")
print(f"Frequent itemsets found: {len(frequent_itemsets)}")
print(f"Rules generated: {len(rules)}")


# Cell 7: Optional memory cleanup
del df, df_market, basket, basket_binary, frequent_itemsets, rules
import gc
gc.collect()



