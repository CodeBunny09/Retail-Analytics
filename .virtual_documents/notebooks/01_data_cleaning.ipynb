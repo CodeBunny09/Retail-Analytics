


#Importing necessary modules from scripts
import sys
sys.path.append("../src")
from data_prep import load_datasets, drop_sparse_columns, merge_datasets, handle_missing_values, initial_eda, save_cleaned_data


# Load all datasets
df_features, df_sales, df_stores = load_datasets()


# Drop sparse columns from features
df_features = drop_sparse_columns(df_features, threshold=0.5)





# Merge datasets
df_merged = merge_datasets(df_sales, df_stores, df_features)


# Save interim merged data for backup
df_merged.to_csv("../data/interim/merged_data.csv", index=False)


# Handle missing values
df_cleaned = handle_missing_values(df_merged)
df_cleaned.to_csv('../data/processed/cleaned.csv')





df_cleaned.head()


# Initial EDA
initial_eda(df_cleaned)
