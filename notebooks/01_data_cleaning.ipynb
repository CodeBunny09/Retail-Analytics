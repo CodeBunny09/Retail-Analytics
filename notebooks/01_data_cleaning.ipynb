{
 "cells": [
  {
   "cell_type": "markdown",
   "id": "56299f6c-76b3-4298-afaf-962667ea58a0",
   "metadata": {},
   "source": [
    "# Data Cleaning and Pre-Processing\n",
    "\n",
    "Here, I loaded a module from the directory '../src' to make the more notebbok more wasier to understand.\n",
    "Actually, I started off with all notebooks, but as i progressed through this project, I opensourced this project to github.\n",
    "As a reult, this is still a project under progress, but it answers the basic questions. \n",
    "I am refactoring the code into a package in the src folder."
   ]
  },
  {
   "cell_type": "code",
   "execution_count": 1,
   "id": "35e549f3-7b09-4503-9398-15307af13b02",
   "metadata": {},
   "outputs": [],
   "source": [
    "#Importing necessary modules from scripts\n",
    "import sys\n",
    "sys.path.append(\"../src\")\n",
    "from data_prep import load_datasets, drop_sparse_columns, merge_datasets, handle_missing_values, initial_eda, save_cleaned_data"
   ]
  },
  {
   "cell_type": "code",
   "execution_count": 2,
   "id": "f38275d6-9895-43ed-9ed8-3bc8237e6801",
   "metadata": {},
   "outputs": [],
   "source": [
    "# Load all datasets\n",
    "df_features, df_sales, df_stores = load_datasets()"
   ]
  },
  {
   "cell_type": "code",
   "execution_count": 3,
   "id": "4bfdef3a-dffc-4ce2-8aa2-23237b8ec0d3",
   "metadata": {},
   "outputs": [],
   "source": [
    "# Drop sparse columns from features\n",
    "df_features = drop_sparse_columns(df_features, threshold=0.5)"
   ]
  },
  {
   "cell_type": "markdown",
   "id": "12cf1f7c-553e-4233-8b9f-dc639c2f83f9",
   "metadata": {},
   "source": [
    "Dropping sparse columns (columns that has more than 50% empty or NaN rows."
   ]
  },
  {
   "cell_type": "code",
   "execution_count": 4,
   "id": "f6a07d65-8dac-4f2b-a543-8af0aaf12c01",
   "metadata": {},
   "outputs": [],
   "source": [
    "# Merge datasets\n",
    "df_merged = merge_datasets(df_sales, df_stores, df_features)"
   ]
  },
  {
   "cell_type": "code",
   "execution_count": 5,
   "id": "ef1e6d5a-3f77-4693-9bf1-f69fe4a92301",
   "metadata": {},
   "outputs": [],
   "source": [
    "# Save interim merged data for backup\n",
    "df_merged.to_csv(\"../data/interim/merged_data.csv\", index=False)"
   ]
  },
  {
   "cell_type": "code",
   "execution_count": 6,
   "id": "a3bbee4c-5029-4423-8799-8635de558c31",
   "metadata": {},
   "outputs": [],
   "source": [
    "# Handle missing values\n",
    "df_cleaned = handle_missing_values(df_merged)\n",
    "df_cleaned.to_csv('../data/processed/cleaned.csv')"
   ]
  },
  {
   "cell_type": "markdown",
   "id": "2600ea53-8866-4208-b8e2-6ecea8ce5390",
   "metadata": {},
   "source": [
    "Merging, cleaning and saving the data"
   ]
  },
  {
   "cell_type": "code",
   "execution_count": 7,
   "id": "f065140e-c34f-4827-b5c4-cde543baa6ba",
   "metadata": {},
   "outputs": [
    {
     "data": {
      "text/html": [
       "<div>\n",
       "<style scoped>\n",
       "    .dataframe tbody tr th:only-of-type {\n",
       "        vertical-align: middle;\n",
       "    }\n",
       "\n",
       "    .dataframe tbody tr th {\n",
       "        vertical-align: top;\n",
       "    }\n",
       "\n",
       "    .dataframe thead th {\n",
       "        text-align: right;\n",
       "    }\n",
       "</style>\n",
       "<table border=\"1\" class=\"dataframe\">\n",
       "  <thead>\n",
       "    <tr style=\"text-align: right;\">\n",
       "      <th></th>\n",
       "      <th>Store</th>\n",
       "      <th>Dept</th>\n",
       "      <th>Date</th>\n",
       "      <th>Weekly_Sales</th>\n",
       "      <th>IsHoliday_x</th>\n",
       "      <th>Type</th>\n",
       "      <th>Size</th>\n",
       "      <th>Temperature</th>\n",
       "      <th>Fuel_Price</th>\n",
       "      <th>CPI</th>\n",
       "      <th>Unemployment</th>\n",
       "      <th>IsHoliday_y</th>\n",
       "    </tr>\n",
       "  </thead>\n",
       "  <tbody>\n",
       "    <tr>\n",
       "      <th>0</th>\n",
       "      <td>1</td>\n",
       "      <td>1</td>\n",
       "      <td>2010-02-05</td>\n",
       "      <td>24924.50</td>\n",
       "      <td>False</td>\n",
       "      <td>A</td>\n",
       "      <td>151315</td>\n",
       "      <td>42.31</td>\n",
       "      <td>2.572</td>\n",
       "      <td>211.096358</td>\n",
       "      <td>8.106</td>\n",
       "      <td>False</td>\n",
       "    </tr>\n",
       "    <tr>\n",
       "      <th>1</th>\n",
       "      <td>1</td>\n",
       "      <td>1</td>\n",
       "      <td>2010-02-12</td>\n",
       "      <td>46039.49</td>\n",
       "      <td>True</td>\n",
       "      <td>A</td>\n",
       "      <td>151315</td>\n",
       "      <td>38.51</td>\n",
       "      <td>2.548</td>\n",
       "      <td>211.242170</td>\n",
       "      <td>8.106</td>\n",
       "      <td>True</td>\n",
       "    </tr>\n",
       "    <tr>\n",
       "      <th>2</th>\n",
       "      <td>1</td>\n",
       "      <td>1</td>\n",
       "      <td>2010-02-19</td>\n",
       "      <td>41595.55</td>\n",
       "      <td>False</td>\n",
       "      <td>A</td>\n",
       "      <td>151315</td>\n",
       "      <td>39.93</td>\n",
       "      <td>2.514</td>\n",
       "      <td>211.289143</td>\n",
       "      <td>8.106</td>\n",
       "      <td>False</td>\n",
       "    </tr>\n",
       "    <tr>\n",
       "      <th>3</th>\n",
       "      <td>1</td>\n",
       "      <td>1</td>\n",
       "      <td>2010-02-26</td>\n",
       "      <td>19403.54</td>\n",
       "      <td>False</td>\n",
       "      <td>A</td>\n",
       "      <td>151315</td>\n",
       "      <td>46.63</td>\n",
       "      <td>2.561</td>\n",
       "      <td>211.319643</td>\n",
       "      <td>8.106</td>\n",
       "      <td>False</td>\n",
       "    </tr>\n",
       "    <tr>\n",
       "      <th>4</th>\n",
       "      <td>1</td>\n",
       "      <td>1</td>\n",
       "      <td>2010-03-05</td>\n",
       "      <td>21827.90</td>\n",
       "      <td>False</td>\n",
       "      <td>A</td>\n",
       "      <td>151315</td>\n",
       "      <td>46.50</td>\n",
       "      <td>2.625</td>\n",
       "      <td>211.350143</td>\n",
       "      <td>8.106</td>\n",
       "      <td>False</td>\n",
       "    </tr>\n",
       "  </tbody>\n",
       "</table>\n",
       "</div>"
      ],
      "text/plain": [
       "   Store  Dept       Date  Weekly_Sales  IsHoliday_x Type    Size  \\\n",
       "0      1     1 2010-02-05      24924.50        False    A  151315   \n",
       "1      1     1 2010-02-12      46039.49         True    A  151315   \n",
       "2      1     1 2010-02-19      41595.55        False    A  151315   \n",
       "3      1     1 2010-02-26      19403.54        False    A  151315   \n",
       "4      1     1 2010-03-05      21827.90        False    A  151315   \n",
       "\n",
       "   Temperature  Fuel_Price         CPI  Unemployment  IsHoliday_y  \n",
       "0        42.31       2.572  211.096358         8.106        False  \n",
       "1        38.51       2.548  211.242170         8.106         True  \n",
       "2        39.93       2.514  211.289143         8.106        False  \n",
       "3        46.63       2.561  211.319643         8.106        False  \n",
       "4        46.50       2.625  211.350143         8.106        False  "
      ]
     },
     "execution_count": 7,
     "metadata": {},
     "output_type": "execute_result"
    }
   ],
   "source": [
    "df_cleaned.head()"
   ]
  },
  {
   "cell_type": "code",
   "execution_count": 8,
   "id": "61cfc4f1-0449-441d-8887-0df4c26d1622",
   "metadata": {},
   "outputs": [
    {
     "name": "stdout",
     "output_type": "stream",
     "text": [
      "Shape: (421570, 12)\n",
      "\n",
      "Data types:\n",
      " Store                    int64\n",
      "Dept                     int64\n",
      "Date            datetime64[ns]\n",
      "Weekly_Sales           float64\n",
      "IsHoliday_x               bool\n",
      "Type                    object\n",
      "Size                     int64\n",
      "Temperature            float64\n",
      "Fuel_Price             float64\n",
      "CPI                    float64\n",
      "Unemployment           float64\n",
      "IsHoliday_y               bool\n",
      "dtype: object\n",
      "\n",
      "Description:\n",
      "                 Store           Dept                           Date  \\\n",
      "count   421570.000000  421570.000000                         421570   \n",
      "unique            NaN            NaN                            NaN   \n",
      "top               NaN            NaN                            NaN   \n",
      "freq              NaN            NaN                            NaN   \n",
      "mean        22.200546      44.260317  2011-06-18 08:30:31.963375104   \n",
      "min          1.000000       1.000000            2010-02-05 00:00:00   \n",
      "25%         11.000000      18.000000            2010-10-08 00:00:00   \n",
      "50%         22.000000      37.000000            2011-06-17 00:00:00   \n",
      "75%         33.000000      74.000000            2012-02-24 00:00:00   \n",
      "max         45.000000      99.000000            2012-10-26 00:00:00   \n",
      "std         12.785297      30.492054                            NaN   \n",
      "\n",
      "         Weekly_Sales IsHoliday_x    Type           Size    Temperature  \\\n",
      "count   421570.000000      421570  421570  421570.000000  421570.000000   \n",
      "unique            NaN           2       3            NaN            NaN   \n",
      "top               NaN       False       A            NaN            NaN   \n",
      "freq              NaN      391909  215478            NaN            NaN   \n",
      "mean     15981.258123         NaN     NaN  136727.915739      60.090059   \n",
      "min      -4988.940000         NaN     NaN   34875.000000      -2.060000   \n",
      "25%       2079.650000         NaN     NaN   93638.000000      46.680000   \n",
      "50%       7612.030000         NaN     NaN  140167.000000      62.090000   \n",
      "75%      20205.852500         NaN     NaN  202505.000000      74.280000   \n",
      "max     693099.360000         NaN     NaN  219622.000000     100.140000   \n",
      "std      22711.183519         NaN     NaN   60980.583328      18.447931   \n",
      "\n",
      "           Fuel_Price            CPI   Unemployment IsHoliday_y  \n",
      "count   421570.000000  421570.000000  421570.000000      421570  \n",
      "unique            NaN            NaN            NaN           2  \n",
      "top               NaN            NaN            NaN       False  \n",
      "freq              NaN            NaN            NaN      391909  \n",
      "mean         3.361027     171.201947       7.960289         NaN  \n",
      "min          2.472000     126.064000       3.879000         NaN  \n",
      "25%          2.933000     132.022667       6.891000         NaN  \n",
      "50%          3.452000     182.318780       7.866000         NaN  \n",
      "75%          3.738000     212.416993       8.572000         NaN  \n",
      "max          4.468000     227.232807      14.313000         NaN  \n",
      "std          0.458515      39.159276       1.863296         NaN  \n"
     ]
    }
   ],
   "source": [
    "# Initial EDA\n",
    "initial_eda(df_cleaned)"
   ]
  },
  {
   "cell_type": "code",
   "execution_count": null,
   "id": "207a968c-58b3-4bfa-b705-01a1f81a02f5",
   "metadata": {},
   "outputs": [],
   "source": []
  }
 ],
 "metadata": {
  "kernelspec": {
   "display_name": "Python 3 (ipykernel)",
   "language": "python",
   "name": "python3"
  },
  "language_info": {
   "codemirror_mode": {
    "name": "ipython",
    "version": 3
   },
   "file_extension": ".py",
   "mimetype": "text/x-python",
   "name": "python",
   "nbconvert_exporter": "python",
   "pygments_lexer": "ipython3",
   "version": "3.9.6"
  }
 },
 "nbformat": 4,
 "nbformat_minor": 5
}
